{
 "cells": [
  {
   "cell_type": "code",
   "execution_count": 1,
   "id": "64b18092-70bb-4707-a1d4-082807993c95",
   "metadata": {},
   "outputs": [],
   "source": [
    "from tkinter import*\n",
    "from PIL import ImageTk , Image\n",
    "from chatterbot import ChatBot\n",
    "from selenium import webdriver\n"
   ]
  },
  {
   "cell_type": "code",
   "execution_count": 2,
   "id": "cfa54be2-9769-49b2-abd3-fe8e0500b761",
   "metadata": {},
   "outputs": [
    {
     "name": "stdout",
     "output_type": "stream",
     "text": [
      "bot>> hii i am google assistant chatbot tell me what you want to search?\n"
     ]
    }
   ],
   "source": [
    "\n",
    "def reply():\n",
    "    bottext=question.get()\n",
    "    textarea.insert(END,\"\\n\"+\"You>> \"+bottext)\n",
    "    print(\"bot>> \"+\"hii i am google assistant chatbot tell me what you want to search?\")\n",
    "    question.delete(0,END)\n",
    "\n",
    "root=Tk()   \n",
    "root.geometry(\"500x570+100+30\")\n",
    "root.title(\"CHATBOT\")\n",
    "root.config(bg=\"black\")\n",
    "\n",
    "photo = ImageTk.PhotoImage(Image.open(\"C:\\\\Users\\\\LENOVO\\\\Pictures\\\\pic.png\"))\n",
    "label = Label(image=photo,bg=\"black\")\n",
    "label.pack(pady = 5)\n",
    "\n",
    "centerFrame =  Frame(root)\n",
    "centerFrame.pack()\n",
    "\n",
    "scrollbar = Scrollbar(centerFrame)\n",
    "scrollbar.pack(side=RIGHT)\n",
    "\n",
    "textarea = Text(centerFrame,font=(\"times new roman\",18,\"bold\"),height =10,yscrollcommand=scrollbar.set,wrap=\"word\")\n",
    "textarea.pack(side =LEFT)\n",
    "scrollbar.config(command= textarea.yview)       #to view text area commands\n",
    "\n",
    "question = Entry(root,font =(\"verdana\",14,\"bold\"))    \n",
    "question.pack(pady=15,fill=X)\n",
    "\n",
    "button = Button(root,text=\"Enter your query\",font=(\"times new roman\",18),command=reply)\n",
    "button.pack()\n",
    "\n",
    "root.mainloop()\n"
   ]
  },
  {
   "cell_type": "code",
   "execution_count": null,
   "id": "d78d5ba8-a4f2-4862-af67-40bca862e299",
   "metadata": {},
   "outputs": [],
   "source": []
  }
 ],
 "metadata": {
  "kernelspec": {
   "display_name": "Python 3 (ipykernel)",
   "language": "python",
   "name": "python3"
  },
  "language_info": {
   "codemirror_mode": {
    "name": "ipython",
    "version": 3
   },
   "file_extension": ".py",
   "mimetype": "text/x-python",
   "name": "python",
   "nbconvert_exporter": "python",
   "pygments_lexer": "ipython3",
   "version": "3.9.7"
  }
 },
 "nbformat": 4,
 "nbformat_minor": 5
}
